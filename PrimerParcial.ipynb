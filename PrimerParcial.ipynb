{
  "nbformat": 4,
  "nbformat_minor": 0,
  "metadata": {
    "colab": {
      "provenance": [],
      "name": "PrimerParcial.ipynb",
      "authorship_tag": "ABX9TyPNecy/WsqH3XXFPSe8f5B6",
      "include_colab_link": true
    },
    "kernelspec": {
      "name": "python3",
      "display_name": "Python 3"
    },
    "language_info": {
      "name": "python"
    }
  },
  "cells": [
    {
      "cell_type": "markdown",
      "metadata": {
        "id": "view-in-github",
        "colab_type": "text"
      },
      "source": [
        "<a href=\"https://colab.research.google.com/github/Ezequiel-del/Parciales_de_IA_2-2024/blob/main/PrimerParcial.ipynb\" target=\"_parent\"><img src=\"https://colab.research.google.com/assets/colab-badge.svg\" alt=\"Open In Colab\"/></a>"
      ]
    },
    {
      "cell_type": "code",
      "source": [
        "from google.colab import drive\n",
        "drive.mount('/content/drive')\n"
      ],
      "metadata": {
        "colab": {
          "base_uri": "https://localhost:8080/"
        },
        "id": "q5nInnKb3DiT",
        "outputId": "7a0e4ba7-4e10-4fa5-a506-213f3f730b4e"
      },
      "execution_count": 3,
      "outputs": [
        {
          "output_type": "stream",
          "name": "stdout",
          "text": [
            "Mounted at /content/drive\n"
          ]
        }
      ]
    },
    {
      "cell_type": "code",
      "source": [
        "import pandas as pd\n",
        "import numpy as np\n",
        "\n",
        "# Cargar el dataset\n",
        "df = pd.read_csv('/content/drive/MyDrive/Dataset para parcilaes /train.csv')\n",
        "\n",
        "\n",
        "# Verificar la cantidad de valores faltantes por columna\n",
        "faltantes = df.isnull().sum()\n",
        "\n",
        "# Mostrar las columnas que tienen valores faltantes\n",
        "print(faltantes)\n",
        "\n",
        "df.info()\n",
        "\n",
        "print(df.info)"
      ],
      "metadata": {
        "colab": {
          "base_uri": "https://localhost:8080/"
        },
        "collapsed": true,
        "id": "E5PWTfnO5Q-N",
        "outputId": "7e50cd7f-d811-443c-94be-616009b2bd1b"
      },
      "execution_count": 14,
      "outputs": [
        {
          "output_type": "stream",
          "name": "stdout",
          "text": [
            "battery_power    0\n",
            "blue             0\n",
            "clock_speed      0\n",
            "dual_sim         0\n",
            "fc               0\n",
            "four_g           0\n",
            "int_memory       0\n",
            "m_dep            0\n",
            "mobile_wt        0\n",
            "n_cores          0\n",
            "pc               0\n",
            "px_height        0\n",
            "px_width         0\n",
            "ram              0\n",
            "sc_h             0\n",
            "sc_w             0\n",
            "talk_time        0\n",
            "three_g          0\n",
            "touch_screen     0\n",
            "wifi             0\n",
            "price_range      0\n",
            "dtype: int64\n",
            "<class 'pandas.core.frame.DataFrame'>\n",
            "RangeIndex: 2000 entries, 0 to 1999\n",
            "Data columns (total 21 columns):\n",
            " #   Column         Non-Null Count  Dtype  \n",
            "---  ------         --------------  -----  \n",
            " 0   battery_power  2000 non-null   int64  \n",
            " 1   blue           2000 non-null   int64  \n",
            " 2   clock_speed    2000 non-null   float64\n",
            " 3   dual_sim       2000 non-null   int64  \n",
            " 4   fc             2000 non-null   int64  \n",
            " 5   four_g         2000 non-null   int64  \n",
            " 6   int_memory     2000 non-null   int64  \n",
            " 7   m_dep          2000 non-null   float64\n",
            " 8   mobile_wt      2000 non-null   int64  \n",
            " 9   n_cores        2000 non-null   int64  \n",
            " 10  pc             2000 non-null   int64  \n",
            " 11  px_height      2000 non-null   int64  \n",
            " 12  px_width       2000 non-null   int64  \n",
            " 13  ram            2000 non-null   int64  \n",
            " 14  sc_h           2000 non-null   int64  \n",
            " 15  sc_w           2000 non-null   int64  \n",
            " 16  talk_time      2000 non-null   int64  \n",
            " 17  three_g        2000 non-null   int64  \n",
            " 18  touch_screen   2000 non-null   int64  \n",
            " 19  wifi           2000 non-null   int64  \n",
            " 20  price_range    2000 non-null   int64  \n",
            "dtypes: float64(2), int64(19)\n",
            "memory usage: 328.2 KB\n"
          ]
        }
      ]
    },
    {
      "cell_type": "code",
      "source": [
        "# Crear la columna 'Has5G' basada en la columna 'price_range'\n",
        "df['Has5G'] = df['price_range'].apply(lambda x: True if x in [2, 3] else False)\n",
        "\n",
        "# Crear la columna 'OperatingSystem' basada en la columna 'price_range'\n",
        "def assign_os(price_range):\n",
        "    if price_range == 3:  # Costo muy alto - iOS\n",
        "        return 'iOS'\n",
        "    elif price_range == 2:  # Costo alto - mezcla de iOS y Android\n",
        "        return np.random.choice(['iOS', 'Android'], p=[0.7, 0.3])  # 70% iOS, 30% Android\n",
        "    else:  # Costo bajo y medio - Android o Windows\n",
        "        return np.random.choice(['Android', 'Windows'])\n",
        "\n",
        "df['OperatingSystem'] = df['price_range'].apply(assign_os)\n",
        "\n",
        "# Mostrar las primeras filas del dataset modificado\n",
        "print(df.head())\n",
        "\n",
        "# Guardar el dataset modificado\n",
        "df.to_csv('train_modified.csv', index=False)"
      ],
      "metadata": {
        "colab": {
          "base_uri": "https://localhost:8080/"
        },
        "id": "1BNgKKZl5lyT",
        "outputId": "224dcf35-9a84-492a-b8f3-243f1e330075"
      },
      "execution_count": 15,
      "outputs": [
        {
          "output_type": "stream",
          "name": "stdout",
          "text": [
            "   battery_power  blue  clock_speed  dual_sim  fc  four_g  int_memory  m_dep  \\\n",
            "0            842     0          2.2         0   1       0           7    0.6   \n",
            "1           1021     1          0.5         1   0       1          53    0.7   \n",
            "2            563     1          0.5         1   2       1          41    0.9   \n",
            "3            615     1          2.5         0   0       0          10    0.8   \n",
            "4           1821     1          1.2         0  13       1          44    0.6   \n",
            "\n",
            "   mobile_wt  n_cores  ...   ram  sc_h  sc_w  talk_time  three_g  \\\n",
            "0        188        2  ...  2549     9     7         19        0   \n",
            "1        136        3  ...  2631    17     3          7        1   \n",
            "2        145        5  ...  2603    11     2          9        1   \n",
            "3        131        6  ...  2769    16     8         11        1   \n",
            "4        141        2  ...  1411     8     2         15        1   \n",
            "\n",
            "   touch_screen  wifi  price_range  Has5G  OperatingSystem  \n",
            "0             0     1            1  False          Android  \n",
            "1             1     0            2   True          Android  \n",
            "2             1     0            2   True              iOS  \n",
            "3             0     0            2   True              iOS  \n",
            "4             1     0            1  False          Windows  \n",
            "\n",
            "[5 rows x 23 columns]\n"
          ]
        }
      ]
    },
    {
      "cell_type": "code",
      "source": [
        "# Función para crear variaciones significativas en los datos\n",
        "def variar_significativamente(fila):\n",
        "    # Cambiar numéricos con una variación más grande, garantizando que no sean negativos\n",
        "    fila['ram'] = max(0, fila['ram'] + np.random.randint(-1024, 1024))  # Variación de hasta 1GB\n",
        "    fila['battery_power'] = max(0, fila['battery_power'] + np.random.randint(-500, 500))  # Variación significativa de la batería\n",
        "    fila['px_height'] = max(0, fila['px_height'] + np.random.randint(-500, 500))  # Variación en la altura de píxeles\n",
        "    fila['px_width'] = max(0, fila['px_width'] + np.random.randint(-500, 500))  # Variación en el ancho de píxeles\n",
        "    fila['int_memory'] = max(0, fila['int_memory'] + np.random.randint(-32, 32))  # Variación en memoria interna\n",
        "\n",
        "    # Cambiar características categóricas\n",
        "    fila['Has5G'] = not fila['Has5G']  # Invertir si tiene 5G\n",
        "    fila['OperatingSystem'] = np.random.choice(['Android', 'iOS', 'Windows'])  # Asignar un nuevo sistema operativo aleatorio\n",
        "\n",
        "    return fila\n",
        "\n",
        "# Duplicar todo el dataset aplicando variaciones significativas\n",
        "duplicados = []\n",
        "\n",
        "for i in range(len(df)):\n",
        "    fila_original = df.iloc[i].copy()  # Copiar la fila original\n",
        "    fila_duplicada = variar_significativamente(fila_original)  # Variar significativamente la fila duplicada\n",
        "    duplicados.append(fila_duplicada)  # Agregar la fila duplicada a la lista\n",
        "\n",
        "# Convertir la lista de duplicados a un DataFrame\n",
        "duplicados_df = pd.DataFrame(duplicados)\n",
        "\n",
        "# Combinar el dataset original con los duplicados\n",
        "df_final = pd.concat([df, duplicados_df], ignore_index=True)\n",
        "\n",
        "# Ver las primeras filas del nuevo dataset con duplicados\n",
        "print(df_final.head())\n"
      ],
      "metadata": {
        "colab": {
          "base_uri": "https://localhost:8080/"
        },
        "id": "wwxadsP5-rwn",
        "outputId": "9feb99b9-3a60-4c08-ed91-fd280b7f2061"
      },
      "execution_count": 18,
      "outputs": [
        {
          "output_type": "stream",
          "name": "stdout",
          "text": [
            "   battery_power  blue  clock_speed  dual_sim  fc  four_g  int_memory  m_dep  \\\n",
            "0            842     0          2.2         0   1       0           7    0.6   \n",
            "1           1021     1          0.5         1   0       1          53    0.7   \n",
            "2            563     1          0.5         1   2       1          41    0.9   \n",
            "3            615     1          2.5         0   0       0          10    0.8   \n",
            "4           1821     1          1.2         0  13       1          44    0.6   \n",
            "\n",
            "   mobile_wt  n_cores  ...   ram  sc_h  sc_w  talk_time  three_g  \\\n",
            "0        188        2  ...  2549     9     7         19        0   \n",
            "1        136        3  ...  2631    17     3          7        1   \n",
            "2        145        5  ...  2603    11     2          9        1   \n",
            "3        131        6  ...  2769    16     8         11        1   \n",
            "4        141        2  ...  1411     8     2         15        1   \n",
            "\n",
            "   touch_screen  wifi  price_range  Has5G  OperatingSystem  \n",
            "0             0     1            1  False          Android  \n",
            "1             1     0            2   True          Android  \n",
            "2             1     0            2   True              iOS  \n",
            "3             0     0            2   True              iOS  \n",
            "4             1     0            1  False          Windows  \n",
            "\n",
            "[5 rows x 23 columns]\n"
          ]
        }
      ]
    },
    {
      "cell_type": "code",
      "source": [
        "# Obtener el número de filas y columnas\n",
        "num_filas, num_columnas = df_final.shape\n",
        "print(f\"Número de filas: {num_filas}, Número de columnas: {num_columnas}\")\n"
      ],
      "metadata": {
        "colab": {
          "base_uri": "https://localhost:8080/"
        },
        "id": "XfJJfyBj_W9P",
        "outputId": "32982dfc-52f6-46b4-e4c1-647127afa924"
      },
      "execution_count": 21,
      "outputs": [
        {
          "output_type": "stream",
          "name": "stdout",
          "text": [
            "Número de filas: 4000, Número de columnas: 23\n"
          ]
        }
      ]
    }
  ]
}