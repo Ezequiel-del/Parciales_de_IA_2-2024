{
  "nbformat": 4,
  "nbformat_minor": 0,
  "metadata": {
    "colab": {
      "provenance": [],
      "name": "PrimerParcial.ipynb",
      "authorship_tag": "ABX9TyP6CPCmiNa2B+CHXsG01ABt",
      "include_colab_link": true
    },
    "kernelspec": {
      "name": "python3",
      "display_name": "Python 3"
    },
    "language_info": {
      "name": "python"
    }
  },
  "cells": [
    {
      "cell_type": "markdown",
      "metadata": {
        "id": "view-in-github",
        "colab_type": "text"
      },
      "source": [
        "<a href=\"https://colab.research.google.com/github/Ezequiel-del/Parciales_de_IA_2-2024/blob/main/PrimerParcial.ipynb\" target=\"_parent\"><img src=\"https://colab.research.google.com/assets/colab-badge.svg\" alt=\"Open In Colab\"/></a>"
      ]
    },
    {
      "cell_type": "code",
      "source": [
        "from google.colab import drive\n",
        "drive.mount('/content/drive')\n"
      ],
      "metadata": {
        "id": "q5nInnKb3DiT",
        "outputId": "7a0e4ba7-4e10-4fa5-a506-213f3f730b4e",
        "colab": {
          "base_uri": "https://localhost:8080/"
        }
      },
      "execution_count": 3,
      "outputs": [
        {
          "output_type": "stream",
          "name": "stdout",
          "text": [
            "Mounted at /content/drive\n"
          ]
        }
      ]
    },
    {
      "cell_type": "code",
      "source": [
        "import pandas as pd\n",
        "import numpy as np\n",
        "\n",
        "# Cargar el dataset\n",
        "df = pd.read_csv('/content/drive/MyDrive/Dataset para parcilaes /train.csv')\n",
        "\n",
        "print(df.head)"
      ],
      "metadata": {
        "id": "E5PWTfnO5Q-N",
        "outputId": "679ddf75-eb0a-461a-b9ad-8d2dffd6ea05",
        "colab": {
          "base_uri": "https://localhost:8080/"
        }
      },
      "execution_count": 9,
      "outputs": [
        {
          "output_type": "stream",
          "name": "stdout",
          "text": [
            "<bound method NDFrame.head of       battery_power  blue  clock_speed  dual_sim  fc  four_g  int_memory  \\\n",
            "0               842     0          2.2         0   1       0           7   \n",
            "1              1021     1          0.5         1   0       1          53   \n",
            "2               563     1          0.5         1   2       1          41   \n",
            "3               615     1          2.5         0   0       0          10   \n",
            "4              1821     1          1.2         0  13       1          44   \n",
            "...             ...   ...          ...       ...  ..     ...         ...   \n",
            "1995            794     1          0.5         1   0       1           2   \n",
            "1996           1965     1          2.6         1   0       0          39   \n",
            "1997           1911     0          0.9         1   1       1          36   \n",
            "1998           1512     0          0.9         0   4       1          46   \n",
            "1999            510     1          2.0         1   5       1          45   \n",
            "\n",
            "      m_dep  mobile_wt  n_cores  ...  px_height  px_width   ram  sc_h  sc_w  \\\n",
            "0       0.6        188        2  ...         20       756  2549     9     7   \n",
            "1       0.7        136        3  ...        905      1988  2631    17     3   \n",
            "2       0.9        145        5  ...       1263      1716  2603    11     2   \n",
            "3       0.8        131        6  ...       1216      1786  2769    16     8   \n",
            "4       0.6        141        2  ...       1208      1212  1411     8     2   \n",
            "...     ...        ...      ...  ...        ...       ...   ...   ...   ...   \n",
            "1995    0.8        106        6  ...       1222      1890   668    13     4   \n",
            "1996    0.2        187        4  ...        915      1965  2032    11    10   \n",
            "1997    0.7        108        8  ...        868      1632  3057     9     1   \n",
            "1998    0.1        145        5  ...        336       670   869    18    10   \n",
            "1999    0.9        168        6  ...        483       754  3919    19     4   \n",
            "\n",
            "      talk_time  three_g  touch_screen  wifi  price_range  \n",
            "0            19        0             0     1            1  \n",
            "1             7        1             1     0            2  \n",
            "2             9        1             1     0            2  \n",
            "3            11        1             0     0            2  \n",
            "4            15        1             1     0            1  \n",
            "...         ...      ...           ...   ...          ...  \n",
            "1995         19        1             1     0            0  \n",
            "1996         16        1             1     1            2  \n",
            "1997          5        1             1     0            3  \n",
            "1998         19        1             1     1            0  \n",
            "1999          2        1             1     1            3  \n",
            "\n",
            "[2000 rows x 21 columns]>\n"
          ]
        }
      ]
    },
    {
      "cell_type": "code",
      "source": [
        "# Crear la columna 'Has5G' basada en la columna 'price_range'\n",
        "df['Has5G'] = df['price_range'].apply(lambda x: True if x in [2, 3] else False)\n",
        "\n",
        "# Crear la columna 'OperatingSystem' basada en la columna 'price_range'\n",
        "def assign_os(price_range):\n",
        "    if price_range == 3:  # Costo muy alto - iOS\n",
        "        return 'iOS'\n",
        "    elif price_range == 2:  # Costo alto - mezcla de iOS y Android\n",
        "        return np.random.choice(['iOS', 'Android'], p=[0.7, 0.3])  # 70% iOS, 30% Android\n",
        "    else:  # Costo bajo y medio - Android o Windows\n",
        "        return np.random.choice(['Android', 'Windows'])\n",
        "\n",
        "df['OperatingSystem'] = df['price_range'].apply(assign_os)\n",
        "\n",
        "# Mostrar las primeras filas del dataset modificado\n",
        "print(df.head())\n",
        "\n",
        "# Guardar el dataset modificado\n",
        "df.to_csv('train_modified.csv', index=False)"
      ],
      "metadata": {
        "id": "1BNgKKZl5lyT"
      },
      "execution_count": null,
      "outputs": []
    }
  ]
}